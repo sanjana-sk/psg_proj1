{
  "nbformat": 4,
  "nbformat_minor": 0,
  "metadata": {
    "colab": {
      "name": "mobilenet.ipynb",
      "provenance": []
    },
    "kernelspec": {
      "name": "python3",
      "display_name": "Python 3"
    }
  },
  "cells": [
    {
      "cell_type": "code",
      "metadata": {
        "id": "hhnIiVe0lgpS",
        "outputId": "cf30b061-9d96-4fab-d1bb-6ce06fb9a210",
        "colab": {
          "base_uri": "https://localhost:8080/"
        }
      },
      "source": [
        "import os\n",
        "import tensorflow as tf\n",
        "from tensorflow import keras\n",
        "import numpy\n",
        "\n",
        "\n",
        "\n",
        "train_dir = '/content/drive/My Drive/cas_peal/train'\n",
        "validation_dir = '/content/drive/My Drive/cas_peal/test'\n",
        "\n",
        "image_size = 150\n",
        "batch_size = 32\n",
        "\n",
        "train_datagen = keras.preprocessing.image.ImageDataGenerator()\n",
        "\n",
        "train_generator = train_datagen.flow_from_directory(directory=train_dir, target_size=(image_size, image_size), batch_size=batch_size)\n",
        "\n",
        "validation_datagen = keras.preprocessing.image.ImageDataGenerator()\n",
        "\n",
        "validation_generator = validation_datagen.flow_from_directory(directory=validation_dir, target_size=(image_size, image_size), batch_size=batch_size)\n",
        "\n",
        "IMG_SHAPE = (image_size, image_size, 3)\n",
        "\n",
        "base_model = tf.keras.applications.MobileNet(input_shape=IMG_SHAPE, include_top=False)\n",
        "base_model.trainable = False\n",
        "\n",
        "base_model = tf.keras.Sequential([\n",
        "  base_model,\n",
        "  keras.layers.GlobalAveragePooling2D(),\n",
        "  keras.layers.Dense(20, activation='softmax')\n",
        "])\n",
        "\n",
        "base_model.summary()\n",
        "\n",
        "base_model.compile(optimizer=tf.keras.optimizers.RMSprop(lr=0.0001),\n",
        "              loss='categorical_crossentropy',\n",
        "              metrics=['accuracy'])\n",
        "\n",
        "epochs = 5\n",
        "steps_per_epoch = numpy.ceil(train_generator.n / batch_size)\n",
        "validation_steps = numpy.ceil(validation_generator.n / batch_size)\n",
        "\n",
        "history = base_model.fit_generator(generator=train_generator,\n",
        "                              steps_per_epoch = steps_per_epoch,\n",
        "                              epochs=epochs,\n",
        "                              validation_data=validation_generator,\n",
        "                              validation_steps=validation_steps)\n",
        "\n",
        "base_model.save('MobileNet_TransferLearning_Face.h5')"
      ],
      "execution_count": 1,
      "outputs": [
        {
          "output_type": "stream",
          "text": [
            "Found 639 images belonging to 20 classes.\n",
            "Found 60 images belonging to 20 classes.\n",
            "WARNING:tensorflow:`input_shape` is undefined or non-square, or `rows` is not in [128, 160, 192, 224]. Weights for input shape (224, 224) will be loaded as the default.\n",
            "Downloading data from https://storage.googleapis.com/tensorflow/keras-applications/mobilenet/mobilenet_1_0_224_tf_no_top.h5\n",
            "17227776/17225924 [==============================] - 0s 0us/step\n",
            "Model: \"sequential\"\n",
            "_________________________________________________________________\n",
            "Layer (type)                 Output Shape              Param #   \n",
            "=================================================================\n",
            "mobilenet_1.00_224 (Function (None, 4, 4, 1024)        3228864   \n",
            "_________________________________________________________________\n",
            "global_average_pooling2d (Gl (None, 1024)              0         \n",
            "_________________________________________________________________\n",
            "dense (Dense)                (None, 20)                20500     \n",
            "=================================================================\n",
            "Total params: 3,249,364\n",
            "Trainable params: 20,500\n",
            "Non-trainable params: 3,228,864\n",
            "_________________________________________________________________\n",
            "WARNING:tensorflow:From <ipython-input-1-29f8b77ecda3>:47: Model.fit_generator (from tensorflow.python.keras.engine.training) is deprecated and will be removed in a future version.\n",
            "Instructions for updating:\n",
            "Please use Model.fit, which supports generators.\n",
            "Epoch 1/5\n",
            "20/20 [==============================] - 473s 24s/step - loss: 3.5391 - accuracy: 0.0485 - val_loss: 3.3291 - val_accuracy: 0.0833\n",
            "Epoch 2/5\n",
            "20/20 [==============================] - 13s 650ms/step - loss: 3.2101 - accuracy: 0.0673 - val_loss: 3.1497 - val_accuracy: 0.1000\n",
            "Epoch 3/5\n",
            "20/20 [==============================] - 13s 657ms/step - loss: 3.0860 - accuracy: 0.0923 - val_loss: 3.0542 - val_accuracy: 0.1333\n",
            "Epoch 4/5\n",
            "20/20 [==============================] - 13s 643ms/step - loss: 2.9978 - accuracy: 0.1080 - val_loss: 2.9607 - val_accuracy: 0.1667\n",
            "Epoch 5/5\n",
            "20/20 [==============================] - 13s 651ms/step - loss: 2.9172 - accuracy: 0.1393 - val_loss: 2.8687 - val_accuracy: 0.2000\n"
          ],
          "name": "stdout"
        }
      ]
    },
    {
      "cell_type": "code",
      "metadata": {
        "id": "cWCe2HKu5RqS",
        "outputId": "d107e9c0-ba7a-4285-e667-14a441c1349a",
        "colab": {
          "base_uri": "https://localhost:8080/",
          "height": 545
        }
      },
      "source": [
        "%matplotlib inline\n",
        "import matplotlib.pyplot as plt\n",
        "accuracy = history.history['accuracy']\n",
        "val_accuracy = history.history['val_accuracy']\n",
        "loss = history.history['loss']\n",
        "val_loss = history.history['val_loss']\n",
        "epochs = range(1, len(accuracy) + 1)\n",
        "plt.plot(epochs, accuracy, 'bo', label='Training accuracy')\n",
        "plt.plot(epochs, val_accuracy, 'b', label='Validation accuracy')\n",
        "plt.title('Training and validation accuracy')\n",
        "plt.legend()\n",
        "plt.figure()\n",
        "plt.plot(epochs, loss, 'bo', label='Training loss')\n",
        "plt.plot(epochs, val_loss, 'b', label='Validation loss')\n",
        "plt.title('Training and validation loss')\n",
        "plt.legend()\n",
        "plt.show()"
      ],
      "execution_count": 5,
      "outputs": [
        {
          "output_type": "display_data",
          "data": {
            "image/png": "[encoded data removed]",
            "text/plain": [
              "<Figure size 432x288 with 1 Axes>"
            ]
          },
          "metadata": {
            "tags": [],
            "needs_background": "light"
          }
        },
        {
          "output_type": "display_data",
          "data": {
            "image/png": "[encoded data removed]",
            "text/plain": [
              "<Figure size 432x288 with 1 Axes>"
            ]
          },
          "metadata": {
            "tags": [],
            "needs_background": "light"
          }
        }
      ]
    },
    {
      "cell_type": "code",
      "metadata": {
        "id": "CyWlOD9D4zf5",
        "outputId": "05d3fa06-f822-48ce-b3a4-92fa0c98dbc3",
        "colab": {
          "base_uri": "https://localhost:8080/"
        }
      },
      "source": [
        "from tensorflow.keras.models import load_model\n",
        "\n",
        "base_model = load_model('MobileNet_TransferLearning_Face.h5')\n",
        "base_model.summary()"
      ],
      "execution_count": 2,
      "outputs": [
        {
          "output_type": "stream",
          "text": [
            "Model: \"sequential\"\n",
            "_________________________________________________________________\n",
            "Layer (type)                 Output Shape              Param #   \n",
            "=================================================================\n",
            "mobilenet_1.00_224 (Function (None, 4, 4, 1024)        3228864   \n",
            "_________________________________________________________________\n",
            "global_average_pooling2d (Gl (None, 1024)              0         \n",
            "_________________________________________________________________\n",
            "dense (Dense)                (None, 20)                20500     \n",
            "=================================================================\n",
            "Total params: 3,249,364\n",
            "Trainable params: 20,500\n",
            "Non-trainable params: 3,228,864\n",
            "_________________________________________________________________\n"
          ],
          "name": "stdout"
        }
      ]
    }
  ]
}