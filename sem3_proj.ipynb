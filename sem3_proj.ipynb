{
  "nbformat": 4,
  "nbformat_minor": 0,
  "metadata": {
    "colab": {
      "name": "sem3_proj.ipynb",
      "provenance": []
    },
    "kernelspec": {
      "name": "python3",
      "display_name": "Python 3"
    }
  },
  "cells": [
    {
      "cell_type": "markdown",
      "metadata": {
        "id": "ItYd6WMmrv3R"
      },
      "source": [
        "defining a convolution neural network with three convolution layer with relu activation function and two max pooling following it"
      ]
    },
    {
      "cell_type": "code",
      "metadata": {
        "id": "Q3eKiO1tOVs7"
      },
      "source": [
        "from keras import layers\n",
        "from keras import models\n",
        "model = models.Sequential()\n",
        "model.add(layers.Conv2D(32, (3, 3), activation='relu', input_shape=(150,150, 3)))\n",
        "model.add(layers.MaxPooling2D((2, 2)))\n",
        "model.add(layers.Conv2D(64, (3, 3), activation='relu'))\n",
        "model.add(layers.MaxPooling2D((2, 2)))\n",
        "model.add(layers.Conv2D(64, (3, 3), activation='relu'))"
      ],
      "execution_count": 1,
      "outputs": []
    },
    {
      "cell_type": "markdown",
      "metadata": {
        "id": "kFZU2R49sGgH"
      },
      "source": [
        "the feature map from the final convolution layer is converted into a linear vector using faltten layer. as we have 20 ppl the output size is 20 neuron and softmax activation function is used as it is a multi class classification."
      ]
    },
    {
      "cell_type": "code",
      "metadata": {
        "id": "IxJRVnfoOfOK"
      },
      "source": [
        "model.add(layers.Flatten())\n",
        "model.add(layers.Dense(64, activation='relu'))\n",
        "model.add(layers.Dense(20, activation='softmax'))"
      ],
      "execution_count": 2,
      "outputs": []
    },
    {
      "cell_type": "markdown",
      "metadata": {
        "id": "CL86YYgZsng3"
      },
      "source": [
        "summary of the cnn model is displayed."
      ]
    },
    {
      "cell_type": "code",
      "metadata": {
        "id": "pPLMzCqvOk27",
        "outputId": "de47fab4-83e8-4db0-a3f1-19fd737cd956",
        "colab": {
          "base_uri": "https://localhost:8080/"
        }
      },
      "source": [
        "model.summary()\n"
      ],
      "execution_count": 3,
      "outputs": [
        {
          "output_type": "stream",
          "text": [
            "Model: \"sequential\"\n",
            "_________________________________________________________________\n",
            "Layer (type)                 Output Shape              Param #   \n",
            "=================================================================\n",
            "conv2d (Conv2D)              (None, 148, 148, 32)      896       \n",
            "_________________________________________________________________\n",
            "max_pooling2d (MaxPooling2D) (None, 74, 74, 32)        0         \n",
            "_________________________________________________________________\n",
            "conv2d_1 (Conv2D)            (None, 72, 72, 64)        18496     \n",
            "_________________________________________________________________\n",
            "max_pooling2d_1 (MaxPooling2 (None, 36, 36, 64)        0         \n",
            "_________________________________________________________________\n",
            "conv2d_2 (Conv2D)            (None, 34, 34, 64)        36928     \n",
            "_________________________________________________________________\n",
            "flatten (Flatten)            (None, 73984)             0         \n",
            "_________________________________________________________________\n",
            "dense (Dense)                (None, 64)                4735040   \n",
            "_________________________________________________________________\n",
            "dense_1 (Dense)              (None, 20)                1300      \n",
            "=================================================================\n",
            "Total params: 4,792,660\n",
            "Trainable params: 4,792,660\n",
            "Non-trainable params: 0\n",
            "_________________________________________________________________\n"
          ],
          "name": "stdout"
        }
      ]
    },
    {
      "cell_type": "markdown",
      "metadata": {
        "id": "5HoWo05-s3T6"
      },
      "source": [
        "as its an multi class classification, the  categorical_crossentropy is used as an loss function.to balance the step size rmsprop is used as an loss function."
      ]
    },
    {
      "cell_type": "code",
      "metadata": {
        "id": "Fsw5htC9OpM8"
      },
      "source": [
        "from keras import optimizers\n",
        "model.compile(loss='categorical_crossentropy',\n",
        "optimizer=optimizers.RMSprop(lr=1e-4),\n",
        "metrics=['acc'])"
      ],
      "execution_count": 4,
      "outputs": []
    },
    {
      "cell_type": "markdown",
      "metadata": {
        "id": "WjxfI3WJt2Bc"
      },
      "source": [
        "data set is accessed from googlr drive"
      ]
    },
    {
      "cell_type": "code",
      "metadata": {
        "id": "ZRH7msC4Owah",
        "outputId": "4f7655c5-e5f0-4e5f-9908-1bd0623074da",
        "colab": {
          "base_uri": "https://localhost:8080/"
        }
      },
      "source": [
        "#Accessing dataset from google drive\n",
        "from google.colab import drive \n",
        "drive.mount('/mntDrive')\n",
        "dataPath='/mntDrive/My Drive/cas_peal/'\n",
        "train_dir = dataPath+'train'\n",
        "val_dir = dataPath+'test'"
      ],
      "execution_count": 5,
      "outputs": [
        {
          "output_type": "stream",
          "text": [
            "Mounted at /mntDrive\n"
          ],
          "name": "stdout"
        }
      ]
    },
    {
      "cell_type": "markdown",
      "metadata": {
        "id": "hbDmUVlHuVoa"
      },
      "source": [
        "using imagedatagenerator the images are rescaled and resized. class mode is choosen as categorical as it is an multi class classification."
      ]
    },
    {
      "cell_type": "code",
      "metadata": {
        "id": "5Oeu-y-7PKaw",
        "outputId": "8347fd4f-19fd-4f92-a45c-dc0be095fa28",
        "colab": {
          "base_uri": "https://localhost:8080/"
        }
      },
      "source": [
        "from keras.preprocessing.image import ImageDataGenerator\n",
        "# All images will be rescaled by 1./255\n",
        "train_datagen = ImageDataGenerator(rescale=1./255)\n",
        "test_datagen = ImageDataGenerator(rescale=1./255)\n",
        "train_generator = train_datagen.flow_from_directory(\n",
        "                # This is the target directory\n",
        "                train_dir,\n",
        "                # All images will be resized to 150x150\n",
        "                target_size=(150, 150),\n",
        "                batch_size=20,\n",
        "              class_mode='categorical')\n",
        "validation_generator = test_datagen.flow_from_directory(\n",
        "                val_dir,\n",
        "                target_size=(150, 150),\n",
        "                batch_size=20,\n",
        "                class_mode='categorical')"
      ],
      "execution_count": 6,
      "outputs": [
        {
          "output_type": "stream",
          "text": [
            "Found 639 images belonging to 20 classes.\n",
            "Found 60 images belonging to 20 classes.\n"
          ],
          "name": "stdout"
        }
      ]
    },
    {
      "cell_type": "markdown",
      "metadata": {
        "id": "hxqW426Luf-B"
      },
      "source": [
        "the batch size is choosen as 20 and the data and lable batch size is printed"
      ]
    },
    {
      "cell_type": "code",
      "metadata": {
        "id": "-gSGZ7YiPR2p",
        "outputId": "bb50210d-0c44-44e3-b1d7-f690b8079ccc",
        "colab": {
          "base_uri": "https://localhost:8080/"
        }
      },
      "source": [
        "for data_batch, labels_batch in validation_generator:\n",
        "    print('data batch shape:', data_batch.shape)\n",
        "    print('labels batch shape:', labels_batch.shape)\n",
        "    break"
      ],
      "execution_count": 7,
      "outputs": [
        {
          "output_type": "stream",
          "text": [
            "data batch shape: (20, 150, 150, 3)\n",
            "labels batch shape: (20, 20)\n"
          ],
          "name": "stdout"
        }
      ]
    },
    {
      "cell_type": "markdown",
      "metadata": {
        "id": "sC2Micw2uqjx"
      },
      "source": [
        "the model is finally trained with 5 epochs"
      ]
    },
    {
      "cell_type": "code",
      "metadata": {
        "id": "5uvLTnMIPdvD",
        "outputId": "9e01f25a-0e1f-490f-e658-0b31ff68203d",
        "colab": {
          "base_uri": "https://localhost:8080/"
        }
      },
      "source": [
        "history = model.fit_generator(\n",
        "train_generator,\n",
        "epochs=5,\n",
        "validation_data=validation_generator)"
      ],
      "execution_count": 8,
      "outputs": [
        {
          "output_type": "stream",
          "text": [
            "WARNING:tensorflow:From <ipython-input-8-5374191de9f0>:4: Model.fit_generator (from tensorflow.python.keras.engine.training) is deprecated and will be removed in a future version.\n",
            "Instructions for updating:\n",
            "Please use Model.fit, which supports generators.\n",
            "Epoch 1/5\n",
            "32/32 [==============================] - 323s 10s/step - loss: 2.9922 - acc: 0.0939 - val_loss: 2.9034 - val_acc: 0.2000\n",
            "Epoch 2/5\n",
            "32/32 [==============================] - 25s 781ms/step - loss: 2.8332 - acc: 0.2097 - val_loss: 2.5785 - val_acc: 0.4667\n",
            "Epoch 3/5\n",
            "32/32 [==============================] - 25s 794ms/step - loss: 2.4736 - acc: 0.3412 - val_loss: 2.0621 - val_acc: 0.5833\n",
            "Epoch 4/5\n",
            "32/32 [==============================] - 25s 783ms/step - loss: 1.9716 - acc: 0.4992 - val_loss: 1.4897 - val_acc: 0.5667\n",
            "Epoch 5/5\n",
            "32/32 [==============================] - 25s 793ms/step - loss: 1.4457 - acc: 0.6025 - val_loss: 0.9533 - val_acc: 0.8000\n"
          ],
          "name": "stdout"
        }
      ]
    },
    {
      "cell_type": "markdown",
      "metadata": {
        "id": "c0NZ-krvuv9s"
      },
      "source": [
        "the trained model is saved"
      ]
    },
    {
      "cell_type": "code",
      "metadata": {
        "id": "qXzNID_lRmA8"
      },
      "source": [
        "model.save('faces_20_ppl.h5')"
      ],
      "execution_count": 9,
      "outputs": []
    },
    {
      "cell_type": "markdown",
      "metadata": {
        "id": "YxV5pUpAu1P3"
      },
      "source": [
        "as the metrics was choose as accuracy, using matpoltlib the accuracy for training and validation data is plotted"
      ]
    },
    {
      "cell_type": "code",
      "metadata": {
        "id": "09BfU-rKRx6X",
        "outputId": "a7fda398-eed4-42bb-cc3b-1fa14c80fbaf",
        "colab": {
          "base_uri": "https://localhost:8080/",
          "height": 545
        }
      },
      "source": [
        "%matplotlib inline\n",
        "import matplotlib.pyplot as plt\n",
        "acc = history.history['acc']\n",
        "val_acc = history.history['val_acc']\n",
        "loss = history.history['loss']\n",
        "val_loss = history.history['val_loss']\n",
        "epochs = range(1, len(acc) + 1)\n",
        "plt.plot(epochs, acc, 'bo', label='Training acc')\n",
        "plt.plot(epochs, val_acc, 'b', label='Validation acc')\n",
        "plt.title('Training and validation accuracy')\n",
        "plt.legend()\n",
        "plt.figure()\n",
        "plt.plot(epochs, loss, 'bo', label='Training loss')\n",
        "plt.plot(epochs, val_loss, 'b', label='Validation loss')\n",
        "plt.title('Training and validation loss')\n",
        "plt.legend()\n",
        "plt.show()"
      ],
      "execution_count": 10,
      "outputs": [
        {
          "output_type": "display_data",
          "data": {
            "image/png": "[encoded data removed]",
            "text/plain": [
              "<Figure size 432x288 with 1 Axes>"
            ]
          },
          "metadata": {
            "tags": [],
            "needs_background": "light"
          }
        },
        {
          "output_type": "display_data",
          "data": {
            "image/png": "[encoded data removed]",
            "text/plain": [
              "<Figure size 432x288 with 1 Axes>"
            ]
          },
          "metadata": {
            "tags": [],
            "needs_background": "light"
          }
        }
      ]
    },
    {
      "cell_type": "markdown",
      "metadata": {
        "id": "EKKqnhmKvD1E"
      },
      "source": [
        "as the model is trained, the model is checked by using the test data. test data is first accessed from google drive and resized and rescaled as per the train and valid data. the number of images in the test data are also printed."
      ]
    },
    {
      "cell_type": "code",
      "metadata": {
        "id": "3XW-HzwMqzom",
        "outputId": "60c195c8-3847-4da7-a47f-fa28d815bc20",
        "colab": {
          "base_uri": "https://localhost:8080/"
        }
      },
      "source": [
        "import numpy as np\n",
        "final_test_dir=dataPath + 'final_test'\n",
        "\n",
        "final_test_datagen = ImageDataGenerator(rescale=1./255)\n",
        "final_test_datagenerator = final_test_datagen.flow_from_directory(\n",
        "                # This is the target directory\n",
        "                final_test_dir,\n",
        "                # All images will be resized to 150x150\n",
        "                target_size=(150, 150),\n",
        "                batch_size=20,\n",
        "              class_mode='categorical')\n",
        "filenames = final_test_datagenerator.filenames\n",
        "nb_samples = len(filenames)\n",
        "print(nb_samples)\n",
        "predict = model.predict_generator(final_test_datagenerator,steps = \n",
        "                                   np.ceil(nb_samples/1))"
      ],
      "execution_count": 11,
      "outputs": [
        {
          "output_type": "stream",
          "text": [
            "Found 2 images belonging to 2 classes.\n",
            "2\n",
            "WARNING:tensorflow:From <ipython-input-11-afb8f291b0f7>:16: Model.predict_generator (from tensorflow.python.keras.engine.training) is deprecated and will be removed in a future version.\n",
            "Instructions for updating:\n",
            "Please use Model.predict, which supports generators.\n",
            "WARNING:tensorflow:Your input ran out of data; interrupting training. Make sure that your dataset or generator can generate at least `steps_per_epoch * epochs` batches (in this case, 2.0 batches). You may need to use the repeat() function when building your dataset.\n"
          ],
          "name": "stdout"
        }
      ]
    },
    {
      "cell_type": "code",
      "metadata": {
        "id": "wFuNvDKZywzs",
        "outputId": "d8849ead-4822-418e-d9c8-68ec1342db66",
        "colab": {
          "base_uri": "https://localhost:8080/"
        }
      },
      "source": [
        "predict"
      ],
      "execution_count": 12,
      "outputs": [
        {
          "output_type": "execute_result",
          "data": {
            "text/plain": [
              "array([[5.21610118e-02, 1.84615646e-02, 6.97612539e-02, 2.15938594e-02,\n",
              "        1.06336735e-01, 5.13710417e-02, 8.03046301e-03, 7.53512457e-02,\n",
              "        4.04470004e-02, 3.04880589e-02, 3.17366272e-02, 4.07024613e-03,\n",
              "        1.85843557e-02, 3.80114429e-02, 9.64187309e-02, 1.85042605e-01,\n",
              "        1.11607127e-02, 3.48666534e-02, 4.45030890e-02, 6.16033264e-02],\n",
              "       [5.17333984e-01, 3.13692726e-03, 1.36307497e-02, 2.76549738e-02,\n",
              "        8.15539341e-03, 6.65302668e-03, 1.87210552e-03, 9.80530586e-03,\n",
              "        5.97268250e-03, 4.23278240e-03, 9.40203201e-03, 1.79547386e-03,\n",
              "        5.54666156e-04, 2.79381231e-04, 7.98300840e-03, 2.94568062e-01,\n",
              "        1.33393398e-02, 2.80346312e-02, 5.90559887e-03, 3.96899469e-02]],\n",
              "      dtype=float32)"
            ]
          },
          "metadata": {
            "tags": []
          },
          "execution_count": 12
        }
      ]
    },
    {
      "cell_type": "markdown",
      "metadata": {
        "id": "DvBjfsKyrtzz"
      },
      "source": [
        ""
      ]
    },
    {
      "cell_type": "code",
      "metadata": {
        "id": "LKxWyNDWxlq6",
        "outputId": "39d5b095-e2ff-434a-c00a-7af966d7b3a6",
        "colab": {
          "base_uri": "https://localhost:8080/"
        }
      },
      "source": [
        "import numpy as np\n",
        "test_1_dir=dataPath + 'test_1'\n",
        "test_1_datagen = ImageDataGenerator(rescale=1./255)\n",
        "test_1_datagenerator = test_1_datagen.flow_from_directory(\n",
        "                # This is the target directory\n",
        "                test_1_dir,\n",
        "                # All images will be resized to 150x150\n",
        "                target_size=(150, 150),\n",
        "                batch_size=20,\n",
        "              class_mode='categorical')\n",
        "filenames = final_test_datagenerator.filenames\n",
        "nb_samples = len(filenames)\n",
        "print(nb_samples)\n",
        "predict = model.predict_generator(test_1_datagenerator,steps = \n",
        "                                   np.ceil(nb_samples/1))"
      ],
      "execution_count": 14,
      "outputs": [
        {
          "output_type": "stream",
          "text": [
            "Found 3 images belonging to 3 classes.\n",
            "2\n",
            "WARNING:tensorflow:Your input ran out of data; interrupting training. Make sure that your dataset or generator can generate at least `steps_per_epoch * epochs` batches (in this case, 2.0 batches). You may need to use the repeat() function when building your dataset.\n"
          ],
          "name": "stdout"
        }
      ]
    },
    {
      "cell_type": "code",
      "metadata": {
        "id": "xw_c7VUHy8PS",
        "outputId": "071dc2b2-f733-40c1-ae96-2f4dc59f8787",
        "colab": {
          "base_uri": "https://localhost:8080/"
        }
      },
      "source": [
        "predict\n"
      ],
      "execution_count": 15,
      "outputs": [
        {
          "output_type": "execute_result",
          "data": {
            "text/plain": [
              "array([[2.08233874e-02, 2.64253980e-03, 3.72217968e-02, 2.06572190e-03,\n",
              "        2.19132006e-03, 1.08374611e-01, 3.51099065e-04, 9.23713017e-03,\n",
              "        2.31559396e-01, 3.14898044e-02, 3.01302224e-03, 4.20001009e-03,\n",
              "        6.43231208e-04, 1.30110624e-04, 5.85032580e-03, 1.56414043e-02,\n",
              "        4.03554708e-01, 1.01664877e-02, 5.76701835e-02, 5.31737655e-02],\n",
              "       [1.89105514e-02, 3.75333615e-03, 6.21560365e-02, 2.84367125e-03,\n",
              "        6.48662494e-03, 1.41883850e-01, 1.53710914e-03, 3.92566510e-02,\n",
              "        1.46422982e-01, 9.13299620e-02, 6.00733981e-03, 1.29672997e-02,\n",
              "        5.37727773e-03, 1.45666290e-03, 2.82059778e-02, 4.05682921e-02,\n",
              "        1.57849282e-01, 3.17473151e-02, 1.38645172e-01, 6.25945479e-02],\n",
              "       [1.23679554e-02, 9.81288124e-03, 6.53038248e-02, 5.02760988e-03,\n",
              "        8.43874831e-03, 1.35993838e-01, 7.74469285e-04, 5.59199229e-02,\n",
              "        6.86405301e-02, 1.99191689e-01, 5.46512194e-03, 3.77819501e-02,\n",
              "        1.41937716e-03, 8.93648947e-04, 5.31014986e-03, 1.38971871e-02,\n",
              "        1.13025494e-01, 2.93638501e-02, 2.20264807e-01, 1.11069642e-02]],\n",
              "      dtype=float32)"
            ]
          },
          "metadata": {
            "tags": []
          },
          "execution_count": 15
        }
      ]
    }
  ]
}